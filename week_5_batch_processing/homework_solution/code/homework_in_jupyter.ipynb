{
 "cells": [
  {
   "cell_type": "code",
   "execution_count": 1,
   "id": "07de9dc3",
   "metadata": {},
   "outputs": [],
   "source": [
    "import pyspark\n",
    "from pyspark.sql import SparkSession"
   ]
  },
  {
   "cell_type": "markdown",
   "id": "93213dfc",
   "metadata": {},
   "source": [
    "### Question 1"
   ]
  },
  {
   "cell_type": "code",
   "execution_count": 2,
   "id": "ca5bbb06",
   "metadata": {},
   "outputs": [
    {
     "name": "stderr",
     "output_type": "stream",
     "text": [
      "Using Spark's default log4j profile: org/apache/spark/log4j-defaults.properties\n",
      "Setting default log level to \"WARN\".\n",
      "To adjust logging level use sc.setLogLevel(newLevel). For SparkR, use setLogLevel(newLevel).\n",
      "22/03/01 02:44:25 WARN NativeCodeLoader: Unable to load native-hadoop library for your platform... using builtin-java classes where applicable\n"
     ]
    }
   ],
   "source": [
    "spark = SparkSession.builder \\\n",
    "    .master(\"local[*]\") \\\n",
    "    .appName('test') \\\n",
    "    .getOrCreate()"
   ]
  },
  {
   "cell_type": "code",
   "execution_count": 31,
   "id": "1ab4fb31",
   "metadata": {},
   "outputs": [
    {
     "data": {
      "text/plain": [
       "'3.2.1'"
      ]
     },
     "execution_count": 31,
     "metadata": {},
     "output_type": "execute_result"
    }
   ],
   "source": [
    "spark.version"
   ]
  },
  {
   "cell_type": "code",
   "execution_count": 22,
   "id": "cf8de204",
   "metadata": {},
   "outputs": [
    {
     "name": "stderr",
     "output_type": "stream",
     "text": [
      "[Stage 1:=======================================>                   (4 + 2) / 6]\r"
     ]
    },
    {
     "name": "stdout",
     "output_type": "stream",
     "text": [
      "--2022-03-01 02:28:08--  https://nyc-tlc.s3.amazonaws.com/trip+data/fhvhv_tripdata_2021-02.csv\n",
      "Resolving nyc-tlc.s3.amazonaws.com (nyc-tlc.s3.amazonaws.com)... 54.231.133.193\n",
      "Connecting to nyc-tlc.s3.amazonaws.com (nyc-tlc.s3.amazonaws.com)|54.231.133.193|:443... connected.\n",
      "HTTP request sent, awaiting response... 200 OK\n",
      "Length: 733822658 (700M) [text/csv]\n",
      "Saving to: ‘fhvhv_tripdata_2021-02.csv’\n",
      "\n",
      "  fhvhv_tripdata_20   0%[                    ]   1.33M   589KB/s               \r"
     ]
    },
    {
     "name": "stderr",
     "output_type": "stream",
     "text": [
      "[Stage 1:=================================================>         (5 + 1) / 6]\r"
     ]
    },
    {
     "name": "stdout",
     "output_type": "stream",
     "text": [
      "             fhvhv_   9%[>                   ]  66.56M   949KB/s    eta 6m 20s "
     ]
    },
    {
     "name": "stderr",
     "output_type": "stream",
     "text": [
      "[Stage 3:>                                                         (0 + 4) / 24]\r"
     ]
    },
    {
     "name": "stdout",
     "output_type": "stream",
     "text": [
      "2.csv                11%[=>                  ]  82.29M  1.48MB/s    eta 6m 17s "
     ]
    },
    {
     "name": "stderr",
     "output_type": "stream",
     "text": [
      "[Stage 3:=========>                                                (4 + 4) / 24]\r"
     ]
    },
    {
     "name": "stdout",
     "output_type": "stream",
     "text": [
      "          fhvhv_tri  12%[=>                  ]  89.57M  1.63MB/s    eta 6m 13s "
     ]
    },
    {
     "name": "stderr",
     "output_type": "stream",
     "text": [
      "[Stage 3:============>                                             (5 + 4) / 24]\r"
     ]
    },
    {
     "name": "stdout",
     "output_type": "stream",
     "text": [
      " fhvhv_tripdata_202  13%[=>                  ]  94.90M  1.79MB/s    eta 6m 6s  "
     ]
    },
    {
     "name": "stderr",
     "output_type": "stream",
     "text": [
      "[Stage 3:==============>                                           (6 + 4) / 24]\r"
     ]
    },
    {
     "name": "stdout",
     "output_type": "stream",
     "text": [
      "hv_tripdata_2021-02  13%[=>                  ]  97.31M  1.89MB/s    eta 6m 3s  "
     ]
    },
    {
     "name": "stderr",
     "output_type": "stream",
     "text": [
      "[Stage 3:================>                                         (7 + 4) / 24]\r"
     ]
    },
    {
     "name": "stdout",
     "output_type": "stream",
     "text": [
      "_tripdata_2021-02.c  14%[=>                  ]  98.56M  1.93MB/s    eta 6m 3s  "
     ]
    },
    {
     "name": "stderr",
     "output_type": "stream",
     "text": [
      "[Stage 3:===================>                                      (8 + 4) / 24]\r"
     ]
    },
    {
     "name": "stdout",
     "output_type": "stream",
     "text": [
      "2021-02.csv          14%[=>                  ] 102.32M  1.56MB/s    eta 6m 5s  "
     ]
    },
    {
     "name": "stderr",
     "output_type": "stream",
     "text": [
      "[Stage 3:=====================>                                    (9 + 4) / 24]\r"
     ]
    },
    {
     "name": "stdout",
     "output_type": "stream",
     "text": [
      "21-02.csv            14%[=>                  ] 103.04M  1.48MB/s    eta 6m 5s  "
     ]
    },
    {
     "name": "stderr",
     "output_type": "stream",
     "text": [
      "[Stage 3:=======================>                                 (10 + 4) / 24]\r"
     ]
    },
    {
     "name": "stdout",
     "output_type": "stream",
     "text": [
      "-02.csv              14%[=>                  ] 103.78M  1.40MB/s    eta 6m 6s  "
     ]
    },
    {
     "name": "stderr",
     "output_type": "stream",
     "text": [
      "[Stage 3:==========================>                              (11 + 4) / 24]\r"
     ]
    },
    {
     "name": "stdout",
     "output_type": "stream",
     "text": [
      "v                    15%[==>                 ] 106.10M  1.15MB/s    eta 6m 8s  "
     ]
    },
    {
     "name": "stderr",
     "output_type": "stream",
     "text": [
      "[Stage 3:============================>                            (12 + 4) / 24]\r"
     ]
    },
    {
     "name": "stdout",
     "output_type": "stream",
     "text": [
      "            fhvhv_t  15%[==>                 ] 109.29M  1.22MB/s    eta 6m 9s  "
     ]
    },
    {
     "name": "stderr",
     "output_type": "stream",
     "text": [
      "[Stage 3:=================================>                       (14 + 4) / 24]\r"
     ]
    },
    {
     "name": "stdout",
     "output_type": "stream",
     "text": [
      "          fhvhv_tri  15%[==>                 ] 110.07M  1.22MB/s    eta 6m 9s  "
     ]
    },
    {
     "name": "stderr",
     "output_type": "stream",
     "text": [
      "[Stage 3:===================================>                     (15 + 4) / 24]\r"
     ]
    },
    {
     "name": "stdout",
     "output_type": "stream",
     "text": [
      "  fhvhv_tripdata_20  16%[==>                 ] 113.37M  1.29MB/s    eta 6m 10s "
     ]
    },
    {
     "name": "stderr",
     "output_type": "stream",
     "text": [
      "[Stage 3:======================================>                  (16 + 4) / 24]\r"
     ]
    },
    {
     "name": "stdout",
     "output_type": "stream",
     "text": [
      "ripdata_2021-02.csv  16%[==>                 ] 117.85M  1.42MB/s    eta 6m 7s  "
     ]
    },
    {
     "name": "stderr",
     "output_type": "stream",
     "text": [
      "[Stage 3:==========================================>              (18 + 4) / 24]\r"
     ]
    },
    {
     "name": "stdout",
     "output_type": "stream",
     "text": [
      "ipdata_2021-02.csv   16%[==>                 ] 118.24M  1.43MB/s    eta 6m 7s  "
     ]
    },
    {
     "name": "stderr",
     "output_type": "stream",
     "text": [
      "[Stage 3:=============================================>           (19 + 4) / 24]\r"
     ]
    },
    {
     "name": "stdout",
     "output_type": "stream",
     "text": [
      "2021-02.csv          17%[==>                 ] 121.46M  1.55MB/s    eta 6m 5s  "
     ]
    },
    {
     "name": "stderr",
     "output_type": "stream",
     "text": [
      "[Stage 3:===============================================>         (20 + 4) / 24]\r"
     ]
    },
    {
     "name": "stdout",
     "output_type": "stream",
     "text": [
      "v                    18%[==>                 ] 126.74M  1.78MB/s    eta 6m 1s  "
     ]
    },
    {
     "name": "stderr",
     "output_type": "stream",
     "text": [
      "[Stage 3:======================================================>  (23 + 1) / 24]\r"
     ]
    },
    {
     "name": "stdout",
     "output_type": "stream",
     "text": [
      "                  f  18%[==>                 ] 127.67M  1.75MB/s    eta 6m 1s  "
     ]
    },
    {
     "name": "stderr",
     "output_type": "stream",
     "text": [
      "                                                                                \r"
     ]
    },
    {
     "name": "stdout",
     "output_type": "stream",
     "text": [
      "fhvhv_tripdata_2021 100%[===================>] 699.83M  2.10MB/s    in 7m 20s  \n",
      "\n",
      "2022-03-01 02:35:29 (1.59 MB/s) - ‘fhvhv_tripdata_2021-02.csv’ saved [733822658/733822658]\n",
      "\n"
     ]
    }
   ],
   "source": [
    "!wget https://nyc-tlc.s3.amazonaws.com/trip+data/fhvhv_tripdata_2021-02.csv"
   ]
  },
  {
   "cell_type": "code",
   "execution_count": 3,
   "id": "2a52087c",
   "metadata": {},
   "outputs": [
    {
     "name": "stdout",
     "output_type": "stream",
     "text": [
      "-rw-rw-r-- 1 desenfirman desenfirman 700M Oct 30 01:53 fhvhv_tripdata_2021-02.csv\n"
     ]
    }
   ],
   "source": [
    "!ls -lh fhvhv_tripdata_2021-02.csv"
   ]
  },
  {
   "cell_type": "code",
   "execution_count": 4,
   "id": "931021a7",
   "metadata": {},
   "outputs": [
    {
     "name": "stderr",
     "output_type": "stream",
     "text": [
      "                                                                                \r"
     ]
    }
   ],
   "source": [
    "df = spark.read \\\n",
    "    .option(\"header\", \"true\") \\\n",
    "    .csv('fhvhv_tripdata_2021-02.csv')"
   ]
  },
  {
   "cell_type": "code",
   "execution_count": 5,
   "id": "d44b7839",
   "metadata": {},
   "outputs": [
    {
     "data": {
      "text/plain": [
       "StructType(List(StructField(hvfhs_license_num,StringType,true),StructField(dispatching_base_num,StringType,true),StructField(pickup_datetime,StringType,true),StructField(dropoff_datetime,StringType,true),StructField(PULocationID,StringType,true),StructField(DOLocationID,StringType,true),StructField(SR_Flag,StringType,true)))"
      ]
     },
     "execution_count": 5,
     "metadata": {},
     "output_type": "execute_result"
    }
   ],
   "source": [
    "df.schema"
   ]
  },
  {
   "cell_type": "code",
   "execution_count": 6,
   "id": "4249e790",
   "metadata": {},
   "outputs": [],
   "source": [
    "!head -n 1001 fhvhv_tripdata_2021-02.csv > head_02.csv"
   ]
  },
  {
   "cell_type": "code",
   "execution_count": 7,
   "id": "6894312c",
   "metadata": {},
   "outputs": [],
   "source": [
    "import pandas as pd"
   ]
  },
  {
   "cell_type": "code",
   "execution_count": 8,
   "id": "f3ca771b",
   "metadata": {},
   "outputs": [],
   "source": [
    "df_pandas = pd.read_csv('head_02.csv')"
   ]
  },
  {
   "cell_type": "code",
   "execution_count": 9,
   "id": "f1066b4f",
   "metadata": {},
   "outputs": [
    {
     "data": {
      "text/plain": [
       "hvfhs_license_num        object\n",
       "dispatching_base_num     object\n",
       "pickup_datetime          object\n",
       "dropoff_datetime         object\n",
       "PULocationID              int64\n",
       "DOLocationID              int64\n",
       "SR_Flag                 float64\n",
       "dtype: object"
      ]
     },
     "execution_count": 9,
     "metadata": {},
     "output_type": "execute_result"
    }
   ],
   "source": [
    "df_pandas.dtypes"
   ]
  },
  {
   "cell_type": "code",
   "execution_count": 44,
   "id": "f8413c9d",
   "metadata": {},
   "outputs": [
    {
     "data": {
      "text/plain": [
       "StructType(List(StructField(hvfhs_license_num,StringType,true),StructField(dispatching_base_num,StringType,true),StructField(pickup_datetime,StringType,true),StructField(dropoff_datetime,StringType,true),StructField(PULocationID,LongType,true),StructField(DOLocationID,LongType,true),StructField(SR_Flag,DoubleType,true)))"
      ]
     },
     "execution_count": 44,
     "metadata": {},
     "output_type": "execute_result"
    }
   ],
   "source": [
    "spark.createDataFrame(df_pandas).schema"
   ]
  },
  {
   "cell_type": "markdown",
   "id": "80f252c1",
   "metadata": {},
   "source": [
    "Integer - 4 bytes\n",
    "Long - 8 bytes"
   ]
  },
  {
   "cell_type": "code",
   "execution_count": 10,
   "id": "16937bfd",
   "metadata": {},
   "outputs": [],
   "source": [
    "from pyspark.sql import types"
   ]
  },
  {
   "cell_type": "code",
   "execution_count": 11,
   "id": "fc61a99a",
   "metadata": {},
   "outputs": [],
   "source": [
    "schema = types.StructType([\n",
    "    types.StructField('hvfhs_license_num', types.StringType(), True),\n",
    "    types.StructField('dispatching_base_num', types.StringType(), True),\n",
    "    types.StructField('pickup_datetime', types.TimestampType(), True),\n",
    "    types.StructField('dropoff_datetime', types.TimestampType(), True),\n",
    "    types.StructField('PULocationID', types.IntegerType(), True),\n",
    "    types.StructField('DOLocationID', types.IntegerType(), True),\n",
    "    types.StructField('SR_Flag', types.StringType(), True)\n",
    "])"
   ]
  },
  {
   "cell_type": "code",
   "execution_count": 12,
   "id": "f94052ae",
   "metadata": {},
   "outputs": [],
   "source": [
    "df = spark.read \\\n",
    "    .option(\"header\", \"true\") \\\n",
    "    .schema(schema) \\\n",
    "    .csv('fhvhv_tripdata_2021-02.csv')"
   ]
  },
  {
   "cell_type": "code",
   "execution_count": 13,
   "id": "c270d9d6",
   "metadata": {},
   "outputs": [],
   "source": [
    "df = df.repartition(24)"
   ]
  },
  {
   "cell_type": "code",
   "execution_count": 14,
   "id": "7796c2b2",
   "metadata": {},
   "outputs": [
    {
     "name": "stderr",
     "output_type": "stream",
     "text": [
      "                                                                                \r"
     ]
    }
   ],
   "source": [
    "df.write.parquet('fhvhv/2021/02/')"
   ]
  },
  {
   "cell_type": "code",
   "execution_count": 15,
   "id": "c3cab876",
   "metadata": {},
   "outputs": [],
   "source": [
    "df = spark.read.parquet('fhvhv/2021/02/')"
   ]
  },
  {
   "cell_type": "code",
   "execution_count": 16,
   "id": "203b5627",
   "metadata": {},
   "outputs": [
    {
     "name": "stdout",
     "output_type": "stream",
     "text": [
      "root\n",
      " |-- hvfhs_license_num: string (nullable = true)\n",
      " |-- dispatching_base_num: string (nullable = true)\n",
      " |-- pickup_datetime: timestamp (nullable = true)\n",
      " |-- dropoff_datetime: timestamp (nullable = true)\n",
      " |-- PULocationID: integer (nullable = true)\n",
      " |-- DOLocationID: integer (nullable = true)\n",
      " |-- SR_Flag: string (nullable = true)\n",
      "\n"
     ]
    }
   ],
   "source": [
    "df.printSchema()"
   ]
  },
  {
   "cell_type": "markdown",
   "id": "0c47ff8c",
   "metadata": {},
   "source": [
    "### Question 2"
   ]
  },
  {
   "cell_type": "code",
   "execution_count": 29,
   "id": "f8c30a76",
   "metadata": {},
   "outputs": [
    {
     "name": "stdout",
     "output_type": "stream",
     "text": [
      "211M\tfhvhv/2021/02\n",
      "211M\tfhvhv/2021\n",
      "211M\tfhvhv\n"
     ]
    }
   ],
   "source": [
    "! du -h fhvhv"
   ]
  },
  {
   "cell_type": "markdown",
   "id": "64172a47",
   "metadata": {},
   "source": [
    "### Question 3"
   ]
  },
  {
   "cell_type": "code",
   "execution_count": 18,
   "id": "d24840a0",
   "metadata": {},
   "outputs": [],
   "source": [
    "from pyspark.sql import functions as F"
   ]
  },
  {
   "cell_type": "code",
   "execution_count": 32,
   "id": "7c0b3048",
   "metadata": {},
   "outputs": [
    {
     "name": "stdout",
     "output_type": "stream",
     "text": [
      "+-----------------+--------------------+-------------------+-------------------+------------+------------+-------+\n",
      "|hvfhs_license_num|dispatching_base_num|    pickup_datetime|   dropoff_datetime|PULocationID|DOLocationID|SR_Flag|\n",
      "+-----------------+--------------------+-------------------+-------------------+------------+------------+-------+\n",
      "|           HV0003|              B02867|2021-02-03 08:26:16|2021-02-03 08:31:19|         171|         171|   null|\n",
      "|           HV0003|              B02617|2021-02-03 09:34:52|2021-02-03 09:56:39|         181|         211|   null|\n",
      "|           HV0003|              B02878|2021-02-01 06:15:00|2021-02-01 06:53:20|         155|         107|   null|\n",
      "|           HV0003|              B02883|2021-02-03 10:20:57|2021-02-03 10:46:25|         213|         247|   null|\n",
      "|           HV0005|              B02510|2021-02-01 17:40:56|2021-02-01 18:08:37|         189|          21|   null|\n",
      "|           HV0003|              B02682|2021-02-03 10:36:25|2021-02-03 11:10:10|          75|         140|   null|\n",
      "|           HV0003|              B02882|2021-02-04 22:51:10|2021-02-04 22:57:47|          41|          42|   null|\n",
      "|           HV0003|              B02866|2021-02-06 16:04:52|2021-02-06 16:24:38|         140|         260|   null|\n",
      "|           HV0003|              B02872|2021-02-03 10:45:29|2021-02-03 11:16:14|          26|         188|   null|\n",
      "|           HV0003|              B02882|2021-02-02 18:42:37|2021-02-02 19:26:08|         225|         236|   null|\n",
      "|           HV0003|              B02883|2021-02-01 03:40:40|2021-02-01 03:47:58|         130|         130|   null|\n",
      "|           HV0003|              B02871|2021-02-03 12:49:02|2021-02-03 13:02:21|         178|         123|   null|\n",
      "|           HV0005|              B02510|2021-02-03 16:51:32|2021-02-03 17:09:12|         121|         252|   null|\n",
      "|           HV0005|              B02510|2021-02-02 21:25:24|2021-02-02 21:49:46|          61|          76|   null|\n",
      "|           HV0003|              B02875|2021-02-06 12:56:37|2021-02-06 13:04:09|          50|         230|   null|\n",
      "|           HV0003|              B02764|2021-02-03 09:06:10|2021-02-03 09:12:29|          49|          97|   null|\n",
      "|           HV0003|              B02864|2021-02-06 11:55:38|2021-02-06 12:01:14|          42|          42|   null|\n",
      "|           HV0005|              B02510|2021-02-03 16:34:11|2021-02-03 16:40:05|           7|         260|   null|\n",
      "|           HV0003|              B02764|2021-02-03 11:47:34|2021-02-03 12:21:51|         244|         112|   null|\n",
      "|           HV0003|              B02887|2021-02-03 22:51:37|2021-02-03 23:14:26|         141|         265|   null|\n",
      "+-----------------+--------------------+-------------------+-------------------+------------+------------+-------+\n",
      "only showing top 20 rows\n",
      "\n"
     ]
    }
   ],
   "source": [
    "df.show()"
   ]
  },
  {
   "cell_type": "code",
   "execution_count": 24,
   "id": "4ce531df",
   "metadata": {},
   "outputs": [
    {
     "name": "stderr",
     "output_type": "stream",
     "text": [
      "/home/desenfirman/miniconda3/lib/python3.8/site-packages/pyspark/sql/dataframe.py:138: FutureWarning: Deprecated in 2.0, use createOrReplaceTempView instead.\n",
      "  warnings.warn(\n"
     ]
    }
   ],
   "source": [
    "df.registerTempTable('fhvhv_tripdata_2021_02')"
   ]
  },
  {
   "cell_type": "code",
   "execution_count": 26,
   "id": "3ab1ca44",
   "metadata": {
    "scrolled": true
   },
   "outputs": [
    {
     "name": "stderr",
     "output_type": "stream",
     "text": [
      "                                                                                \r"
     ]
    },
    {
     "data": {
      "text/plain": [
       "367170"
      ]
     },
     "execution_count": 26,
     "metadata": {},
     "output_type": "execute_result"
    }
   ],
   "source": [
    "spark.sql(\"\"\"\n",
    "SELECT\n",
    "    *\n",
    "FROM\n",
    "    fhvhv_tripdata_2021_02\n",
    "WHERE\n",
    "    pickup_datetime >= '2021-02-15 00:00:00' and pickup_datetime <= '2021-02-15 23:59:59'\n",
    "\"\"\").count()"
   ]
  },
  {
   "cell_type": "markdown",
   "id": "36d00813",
   "metadata": {},
   "source": [
    "### Question 4"
   ]
  },
  {
   "cell_type": "code",
   "execution_count": 37,
   "id": "616b5dd6",
   "metadata": {},
   "outputs": [
    {
     "name": "stderr",
     "output_type": "stream",
     "text": [
      "[Stage 22:===========================================>              (3 + 1) / 4]\r"
     ]
    },
    {
     "name": "stdout",
     "output_type": "stream",
     "text": [
      "+-------------------+--------------------+\n",
      "|        pickup_date|        max_duration|\n",
      "+-------------------+--------------------+\n",
      "|2021-02-11 00:00:00|INTERVAL '0 20:59...|\n",
      "|2021-02-17 00:00:00|INTERVAL '0 15:53...|\n",
      "|2021-02-20 00:00:00|INTERVAL '0 12:13...|\n",
      "|2021-02-03 00:00:00|INTERVAL '0 11:17...|\n",
      "|2021-02-19 00:00:00|INTERVAL '0 10:26...|\n",
      "|2021-02-25 00:00:00|INTERVAL '0 09:43...|\n",
      "|2021-02-18 00:00:00|INTERVAL '0 09:36...|\n",
      "|2021-02-10 00:00:00|INTERVAL '0 09:29...|\n",
      "|2021-02-21 00:00:00|INTERVAL '0 08:57...|\n",
      "|2021-02-09 00:00:00|INTERVAL '0 08:54...|\n",
      "|2021-02-06 00:00:00|INTERVAL '0 08:44...|\n",
      "|2021-02-02 00:00:00|INTERVAL '0 08:35...|\n",
      "|2021-02-05 00:00:00|INTERVAL '0 08:28...|\n",
      "|2021-02-12 00:00:00|INTERVAL '0 08:22...|\n",
      "|2021-02-08 00:00:00|INTERVAL '0 08:21...|\n",
      "|2021-02-14 00:00:00|INTERVAL '0 08:16...|\n",
      "|2021-02-22 00:00:00|INTERVAL '0 07:51...|\n",
      "|2021-02-27 00:00:00|INTERVAL '0 07:32...|\n",
      "|2021-02-15 00:00:00|INTERVAL '0 07:11...|\n",
      "|2021-02-04 00:00:00|INTERVAL '0 07:06...|\n",
      "+-------------------+--------------------+\n",
      "only showing top 20 rows\n",
      "\n"
     ]
    },
    {
     "name": "stderr",
     "output_type": "stream",
     "text": [
      "                                                                                \r"
     ]
    }
   ],
   "source": [
    "spark.sql(\"\"\"\n",
    "WITH a AS (\n",
    "    SELECT\n",
    "        *,\n",
    "        dropoff_datetime - pickup_datetime as duration\n",
    "    FROM\n",
    "        fhvhv_tripdata_2021_02\n",
    ")\n",
    "    SELECT \n",
    "        DATE_TRUNC('day', pickup_datetime) as pickup_date,\n",
    "        MAX(duration) as max_duration\n",
    "    FROM a\n",
    "    GROUP BY pickup_date\n",
    "    ORDER BY 2 DESC\n",
    "\"\"\").show()"
   ]
  },
  {
   "cell_type": "markdown",
   "id": "e7019e63",
   "metadata": {},
   "source": [
    "### Question 5"
   ]
  },
  {
   "cell_type": "code",
   "execution_count": 38,
   "id": "114a0fd9",
   "metadata": {},
   "outputs": [
    {
     "name": "stderr",
     "output_type": "stream",
     "text": [
      "[Stage 25:=============================>                            (2 + 2) / 4]\r"
     ]
    },
    {
     "name": "stdout",
     "output_type": "stream",
     "text": [
      "+--------------------+---------------+\n",
      "|dispatching_base_num|num_occurrences|\n",
      "+--------------------+---------------+\n",
      "|              B02510|        3233664|\n",
      "|              B02764|         965568|\n",
      "|              B02872|         882689|\n",
      "|              B02875|         685390|\n",
      "|              B02765|         559768|\n",
      "|              B02869|         429720|\n",
      "|              B02887|         322331|\n",
      "|              B02871|         312364|\n",
      "|              B02864|         311603|\n",
      "|              B02866|         311089|\n",
      "|              B02878|         305185|\n",
      "|              B02682|         303255|\n",
      "|              B02617|         274510|\n",
      "|              B02883|         251617|\n",
      "|              B02884|         244963|\n",
      "|              B02882|         232173|\n",
      "|              B02876|         215693|\n",
      "|              B02879|         210137|\n",
      "|              B02867|         200530|\n",
      "|              B02877|         198938|\n",
      "+--------------------+---------------+\n",
      "only showing top 20 rows\n",
      "\n"
     ]
    },
    {
     "name": "stderr",
     "output_type": "stream",
     "text": [
      "                                                                                \r"
     ]
    }
   ],
   "source": [
    "spark.sql(\"\"\"\n",
    "    SELECT\n",
    "        dispatching_base_num,\n",
    "        count(dispatching_base_num) as num_occurrences\n",
    "    FROM\n",
    "        fhvhv_tripdata_2021_02\n",
    "    GROUP BY dispatching_base_num\n",
    "    ORDER BY 2 DESC\n",
    "\"\"\").show()"
   ]
  },
  {
   "cell_type": "markdown",
   "id": "add27c7f",
   "metadata": {},
   "source": [
    "### Question 6 "
   ]
  },
  {
   "cell_type": "markdown",
   "id": "f194dbc7",
   "metadata": {},
   "source": [
    "Read zones table and create spark table for Spark SQL Purposes"
   ]
  },
  {
   "cell_type": "code",
   "execution_count": 39,
   "id": "da183bb4",
   "metadata": {},
   "outputs": [
    {
     "name": "stdout",
     "output_type": "stream",
     "text": [
      "+----------+-------------+--------------------+------------+\n",
      "|LocationID|      Borough|                Zone|service_zone|\n",
      "+----------+-------------+--------------------+------------+\n",
      "|         1|          EWR|      Newark Airport|         EWR|\n",
      "|         2|       Queens|         Jamaica Bay|   Boro Zone|\n",
      "|         3|        Bronx|Allerton/Pelham G...|   Boro Zone|\n",
      "|         4|    Manhattan|       Alphabet City| Yellow Zone|\n",
      "|         5|Staten Island|       Arden Heights|   Boro Zone|\n",
      "|         6|Staten Island|Arrochar/Fort Wad...|   Boro Zone|\n",
      "|         7|       Queens|             Astoria|   Boro Zone|\n",
      "|         8|       Queens|        Astoria Park|   Boro Zone|\n",
      "|         9|       Queens|          Auburndale|   Boro Zone|\n",
      "|        10|       Queens|        Baisley Park|   Boro Zone|\n",
      "|        11|     Brooklyn|          Bath Beach|   Boro Zone|\n",
      "|        12|    Manhattan|        Battery Park| Yellow Zone|\n",
      "|        13|    Manhattan|   Battery Park City| Yellow Zone|\n",
      "|        14|     Brooklyn|           Bay Ridge|   Boro Zone|\n",
      "|        15|       Queens|Bay Terrace/Fort ...|   Boro Zone|\n",
      "|        16|       Queens|             Bayside|   Boro Zone|\n",
      "|        17|     Brooklyn|             Bedford|   Boro Zone|\n",
      "|        18|        Bronx|        Bedford Park|   Boro Zone|\n",
      "|        19|       Queens|           Bellerose|   Boro Zone|\n",
      "|        20|        Bronx|             Belmont|   Boro Zone|\n",
      "+----------+-------------+--------------------+------------+\n",
      "only showing top 20 rows\n",
      "\n"
     ]
    }
   ],
   "source": [
    "zones = spark.read.parquet('zones/')\n",
    "zones.show()"
   ]
  },
  {
   "cell_type": "code",
   "execution_count": 40,
   "id": "e6a38fcb",
   "metadata": {},
   "outputs": [
    {
     "name": "stderr",
     "output_type": "stream",
     "text": [
      "/home/desenfirman/miniconda3/lib/python3.8/site-packages/pyspark/sql/dataframe.py:138: FutureWarning: Deprecated in 2.0, use createOrReplaceTempView instead.\n",
      "  warnings.warn(\n"
     ]
    }
   ],
   "source": [
    "zones.registerTempTable('zones_data')"
   ]
  },
  {
   "cell_type": "code",
   "execution_count": 43,
   "id": "421b446f",
   "metadata": {},
   "outputs": [
    {
     "name": "stderr",
     "output_type": "stream",
     "text": [
      "[Stage 35:===========================================>              (3 + 1) / 4]\r"
     ]
    },
    {
     "name": "stdout",
     "output_type": "stream",
     "text": [
      "+--------------------+---------------+\n",
      "|           zone_pair|num_occurrences|\n",
      "+--------------------+---------------+\n",
      "|East New York/Eas...|          45041|\n",
      "|Borough Park/Boro...|          37329|\n",
      "|   Canarsie/Canarsie|          28026|\n",
      "|Crown Heights Nor...|          25976|\n",
      "| Bay Ridge/Bay Ridge|          17934|\n",
      "|Jackson Heights/J...|          14688|\n",
      "|     Astoria/Astoria|          14688|\n",
      "|Central Harlem No...|          14481|\n",
      "|Bushwick South/Bu...|          14424|\n",
      "|Flatbush/Ditmas P...|          13976|\n",
      "|South Ozone Park/...|          13716|\n",
      "|Brownsville/Brown...|          12829|\n",
      "|      JFK Airport/NA|          12542|\n",
      "|Prospect-Lefferts...|          11814|\n",
      "|Forest Hills/Fore...|          11548|\n",
      "|Bushwick North/Bu...|          11491|\n",
      "|Bushwick South/Bu...|          11487|\n",
      "|Crown Heights Nor...|          11462|\n",
      "|Crown Heights Nor...|          11342|\n",
      "|Prospect-Lefferts...|          11308|\n",
      "+--------------------+---------------+\n",
      "only showing top 20 rows\n",
      "\n"
     ]
    },
    {
     "name": "stderr",
     "output_type": "stream",
     "text": [
      "                                                                                \r"
     ]
    }
   ],
   "source": [
    "spark.sql(\"\"\"\n",
    "    WITH a AS (\n",
    "        SELECT\n",
    "            fhvhv_tripdata_2021_02.*,\n",
    "            pu_zones.Zone as pu_zone,\n",
    "            do_zones.Zone as do_zone\n",
    "        FROM\n",
    "            fhvhv_tripdata_2021_02\n",
    "        LEFT JOIN zones_data pu_zones\n",
    "            ON pu_zones.LocationID = fhvhv_tripdata_2021_02.PULocationID\n",
    "        LEFT JOIN zones_data do_zones\n",
    "            ON do_zones.LocationID = fhvhv_tripdata_2021_02.DOLocationID\n",
    "    )\n",
    "    SELECT \n",
    "        CONCAT(pu_zone, '/', do_zone) as zone_pair,\n",
    "        COUNT(*) as num_occurrences\n",
    "    FROM a\n",
    "    GROUP BY pu_zone, do_zone\n",
    "    ORDER BY 2 DESC\n",
    "\"\"\").show()"
   ]
  }
 ],
 "metadata": {
  "kernelspec": {
   "display_name": "Python 3 (ipykernel)",
   "language": "python",
   "name": "python3"
  },
  "language_info": {
   "codemirror_mode": {
    "name": "ipython",
    "version": 3
   },
   "file_extension": ".py",
   "mimetype": "text/x-python",
   "name": "python",
   "nbconvert_exporter": "python",
   "pygments_lexer": "ipython3",
   "version": "3.8.12"
  }
 },
 "nbformat": 4,
 "nbformat_minor": 5
}
